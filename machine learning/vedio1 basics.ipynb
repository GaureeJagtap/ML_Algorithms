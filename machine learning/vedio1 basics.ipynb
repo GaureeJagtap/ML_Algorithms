{
 "cells": [
  {
   "cell_type": "code",
   "execution_count": 4,
   "id": "b1afc859-e664-4df5-91b2-8832520cce29",
   "metadata": {},
   "outputs": [
    {
     "data": {
      "text/plain": [
       "'ABHI'"
      ]
     },
     "execution_count": 4,
     "metadata": {},
     "output_type": "execute_result"
    }
   ],
   "source": [
    "s = \"ABHI\"\n",
    "s"
   ]
  },
  {
   "cell_type": "code",
   "execution_count": 5,
   "id": "83ca630b-a069-4ddd-ae90-ceea21969c61",
   "metadata": {},
   "outputs": [
    {
     "data": {
      "text/plain": [
       "str"
      ]
     },
     "execution_count": 5,
     "metadata": {},
     "output_type": "execute_result"
    }
   ],
   "source": [
    "type(s)"
   ]
  },
  {
   "cell_type": "code",
   "execution_count": 6,
   "id": "30cb7b08-9d31-4186-98f8-ea722e939712",
   "metadata": {},
   "outputs": [
    {
     "data": {
      "text/plain": [
       "'A'"
      ]
     },
     "execution_count": 6,
     "metadata": {},
     "output_type": "execute_result"
    }
   ],
   "source": [
    "s[0]"
   ]
  },
  {
   "cell_type": "code",
   "execution_count": 7,
   "id": "76fe1e9d-828e-49f7-a53f-7eb12280516b",
   "metadata": {},
   "outputs": [
    {
     "data": {
      "text/plain": [
       "'B'"
      ]
     },
     "execution_count": 7,
     "metadata": {},
     "output_type": "execute_result"
    }
   ],
   "source": [
    "s[1]"
   ]
  },
  {
   "cell_type": "code",
   "execution_count": 8,
   "id": "a51ee7e6-8065-4fc1-9b31-c57323244cac",
   "metadata": {},
   "outputs": [
    {
     "data": {
      "text/plain": [
       "'H'"
      ]
     },
     "execution_count": 8,
     "metadata": {},
     "output_type": "execute_result"
    }
   ],
   "source": [
    "s[2]"
   ]
  },
  {
   "cell_type": "code",
   "execution_count": 9,
   "id": "a6f7178a-1401-48ae-9b89-8b78f7470d54",
   "metadata": {},
   "outputs": [
    {
     "data": {
      "text/plain": [
       "'I'"
      ]
     },
     "execution_count": 9,
     "metadata": {},
     "output_type": "execute_result"
    }
   ],
   "source": [
    "s[3]"
   ]
  },
  {
   "cell_type": "code",
   "execution_count": 10,
   "id": "0a18ca46-47a7-4db6-b871-43f3a4fe1b95",
   "metadata": {
    "scrolled": true
   },
   "outputs": [
    {
     "data": {
      "text/plain": [
       "'I'"
      ]
     },
     "execution_count": 10,
     "metadata": {},
     "output_type": "execute_result"
    }
   ],
   "source": [
    "s[-1]"
   ]
  },
  {
   "cell_type": "code",
   "execution_count": 11,
   "id": "2646985f-85ce-45a7-9e48-6966b0e2c1ae",
   "metadata": {},
   "outputs": [
    {
     "ename": "IndexError",
     "evalue": "string index out of range",
     "output_type": "error",
     "traceback": [
      "\u001b[1;31m---------------------------------------------------------------------------\u001b[0m",
      "\u001b[1;31mIndexError\u001b[0m                                Traceback (most recent call last)",
      "Cell \u001b[1;32mIn[11], line 1\u001b[0m\n\u001b[1;32m----> 1\u001b[0m s[\u001b[38;5;241m100\u001b[39m]\n",
      "\u001b[1;31mIndexError\u001b[0m: string index out of range"
     ]
    }
   ],
   "source": [
    "s[100]"
   ]
  },
  {
   "cell_type": "code",
   "execution_count": 14,
   "id": "ea91ad5e-3e2e-485b-a80b-3bb170dde8d9",
   "metadata": {},
   "outputs": [
    {
     "data": {
      "text/plain": [
       "'This is Gauree'"
      ]
     },
     "execution_count": 14,
     "metadata": {},
     "output_type": "execute_result"
    }
   ],
   "source": [
    "a = 'This is Gauree'\n",
    "a"
   ]
  },
  {
   "cell_type": "code",
   "execution_count": 15,
   "id": "fd030fa5-97a9-444e-a285-eefb281b2c5a",
   "metadata": {},
   "outputs": [
    {
     "data": {
      "text/plain": [
       "'h'"
      ]
     },
     "execution_count": 15,
     "metadata": {},
     "output_type": "execute_result"
    }
   ],
   "source": [
    "a[1]"
   ]
  },
  {
   "cell_type": "code",
   "execution_count": 16,
   "id": "45c62ccf-c707-4496-b920-5ffed2930c69",
   "metadata": {},
   "outputs": [
    {
     "data": {
      "text/plain": [
       "' '"
      ]
     },
     "execution_count": 16,
     "metadata": {},
     "output_type": "execute_result"
    }
   ],
   "source": [
    "a[4]"
   ]
  },
  {
   "cell_type": "code",
   "execution_count": 17,
   "id": "2cc49aee-684a-46e8-b448-5b397f7de547",
   "metadata": {},
   "outputs": [
    {
     "ename": "SyntaxError",
     "evalue": "invalid syntax (1856634049.py, line 1)",
     "output_type": "error",
     "traceback": [
      "\u001b[1;36m  Cell \u001b[1;32mIn[17], line 1\u001b[1;36m\u001b[0m\n\u001b[1;33m    a[0:10]                   // including 0 & excluding 10\u001b[0m\n\u001b[1;37m                                           ^\u001b[0m\n\u001b[1;31mSyntaxError\u001b[0m\u001b[1;31m:\u001b[0m invalid syntax\n"
     ]
    }
   ],
   "source": [
    "a[0:10]                   // including 0 & excluding 10"
   ]
  },
  {
   "cell_type": "code",
   "execution_count": 18,
   "id": "ab81b642-066d-464e-876f-b3822c9d849b",
   "metadata": {},
   "outputs": [
    {
     "data": {
      "text/plain": [
       "'This is Gauree'"
      ]
     },
     "execution_count": 18,
     "metadata": {},
     "output_type": "execute_result"
    }
   ],
   "source": [
    "a[0:300]"
   ]
  },
  {
   "cell_type": "code",
   "execution_count": 19,
   "id": "3805c72e-20c0-4c0d-896a-a58b55517808",
   "metadata": {},
   "outputs": [
    {
     "ename": "IndexError",
     "evalue": "string index out of range",
     "output_type": "error",
     "traceback": [
      "\u001b[1;31m---------------------------------------------------------------------------\u001b[0m",
      "\u001b[1;31mIndexError\u001b[0m                                Traceback (most recent call last)",
      "Cell \u001b[1;32mIn[19], line 1\u001b[0m\n\u001b[1;32m----> 1\u001b[0m a[\u001b[38;5;241m300\u001b[39m]\n",
      "\u001b[1;31mIndexError\u001b[0m: string index out of range"
     ]
    }
   ],
   "source": [
    "a[300]"
   ]
  },
  {
   "cell_type": "code",
   "execution_count": 20,
   "id": "208e2f37-9d7a-4662-85af-8578c6001828",
   "metadata": {
    "scrolled": true
   },
   "outputs": [
    {
     "ename": "IndexError",
     "evalue": "string index out of range",
     "output_type": "error",
     "traceback": [
      "\u001b[1;31m---------------------------------------------------------------------------\u001b[0m",
      "\u001b[1;31mIndexError\u001b[0m                                Traceback (most recent call last)",
      "Cell \u001b[1;32mIn[20], line 1\u001b[0m\n\u001b[1;32m----> 1\u001b[0m a[\u001b[38;5;241m-\u001b[39m\u001b[38;5;241m100\u001b[39m]\n",
      "\u001b[1;31mIndexError\u001b[0m: string index out of range"
     ]
    }
   ],
   "source": [
    "a[-100]"
   ]
  },
  {
   "cell_type": "code",
   "execution_count": 21,
   "id": "00bafa9e-48a7-471c-9ab7-a22fd8c3d712",
   "metadata": {},
   "outputs": [
    {
     "data": {
      "text/plain": [
       "'Thi'"
      ]
     },
     "execution_count": 21,
     "metadata": {},
     "output_type": "execute_result"
    }
   ],
   "source": [
    "a[0:3]"
   ]
  },
  {
   "cell_type": "code",
   "execution_count": 22,
   "id": "107ade23-7f79-4f36-ac3e-d19af237ce19",
   "metadata": {},
   "outputs": [
    {
     "data": {
      "text/plain": [
       "'This is Gauree'"
      ]
     },
     "execution_count": 22,
     "metadata": {},
     "output_type": "execute_result"
    }
   ],
   "source": [
    "a[0:100:1]"
   ]
  },
  {
   "cell_type": "code",
   "execution_count": 23,
   "id": "3edf20d5-a54d-48b1-98cc-c10bc2731c09",
   "metadata": {},
   "outputs": [
    {
     "data": {
      "text/plain": [
       "'Ti sGue'"
      ]
     },
     "execution_count": 23,
     "metadata": {},
     "output_type": "execute_result"
    }
   ],
   "source": [
    "a[0:100:2]"
   ]
  },
  {
   "cell_type": "code",
   "execution_count": 24,
   "id": "31c4f810-0de3-490d-b024-9224b9481442",
   "metadata": {},
   "outputs": [
    {
     "data": {
      "text/plain": [
       "'Tssae'"
      ]
     },
     "execution_count": 24,
     "metadata": {},
     "output_type": "execute_result"
    }
   ],
   "source": [
    "a[0:100:3]"
   ]
  },
  {
   "cell_type": "code",
   "execution_count": 25,
   "id": "3cbddfb9-d8fc-41b9-91fe-f3c911d5cb5f",
   "metadata": {},
   "outputs": [
    {
     "data": {
      "text/plain": [
       "''"
      ]
     },
     "execution_count": 25,
     "metadata": {},
     "output_type": "execute_result"
    }
   ],
   "source": [
    "a[0:100:-1]"
   ]
  },
  {
   "cell_type": "code",
   "execution_count": 26,
   "id": "599bbd28-f41d-4831-9dbc-f90de0c7d594",
   "metadata": {
    "scrolled": true
   },
   "outputs": [
    {
     "data": {
      "text/plain": [
       "''"
      ]
     },
     "execution_count": 26,
     "metadata": {},
     "output_type": "execute_result"
    }
   ],
   "source": [
    "a[-1:-4]"
   ]
  },
  {
   "cell_type": "code",
   "execution_count": 27,
   "id": "fec22c45-75c9-483c-a4bc-b845aef2ae4c",
   "metadata": {},
   "outputs": [
    {
     "data": {
      "text/plain": [
       "'eerua'"
      ]
     },
     "execution_count": 27,
     "metadata": {},
     "output_type": "execute_result"
    }
   ],
   "source": [
    "a[-1:-6:-1]"
   ]
  },
  {
   "cell_type": "code",
   "execution_count": 28,
   "id": "633456fb-3095-4418-9cc3-64b800f63f81",
   "metadata": {},
   "outputs": [
    {
     "data": {
      "text/plain": [
       "'eeruaG si sihT'"
      ]
     },
     "execution_count": 28,
     "metadata": {},
     "output_type": "execute_result"
    }
   ],
   "source": [
    "a[-1::-1]"
   ]
  },
  {
   "cell_type": "code",
   "execution_count": 29,
   "id": "694ddccf-94d4-4647-a088-a27dc5074641",
   "metadata": {},
   "outputs": [
    {
     "data": {
      "text/plain": [
       "''"
      ]
     },
     "execution_count": 29,
     "metadata": {},
     "output_type": "execute_result"
    }
   ],
   "source": [
    "a[0:-10:-1]"
   ]
  },
  {
   "cell_type": "code",
   "execution_count": 30,
   "id": "a6ad6235-0211-4f9c-8924-2e9935654404",
   "metadata": {},
   "outputs": [
    {
     "data": {
      "text/plain": [
       "'This is Gauree'"
      ]
     },
     "execution_count": 30,
     "metadata": {},
     "output_type": "execute_result"
    }
   ],
   "source": [
    "a"
   ]
  },
  {
   "cell_type": "code",
   "execution_count": 31,
   "id": "02dabb1d-6d0e-4839-8f14-ba252f1e53cb",
   "metadata": {},
   "outputs": [
    {
     "data": {
      "text/plain": [
       "''"
      ]
     },
     "execution_count": 31,
     "metadata": {},
     "output_type": "execute_result"
    }
   ],
   "source": [
    "# The string a is assigned the value 'This is adcet'.\n",
    "\n",
    "# String Slicing:\n",
    "\n",
    "# python\n",
    "# Copy code\n",
    "# print(a[0:-10:-1])\n",
    "# This line uses slicing to extract a portion of the string a based on the specified indices and step. The general form of slicing is a[start:end:step].\n",
    "\n",
    "# start: 0 (the slicing starts from index 0, which is the first character 'T')\n",
    "# end: -10 (the slicing stops before index -10)\n",
    "# step: -1 (the slicing is done in reverse order, meaning it moves backwards)\n",
    "# To understand the indices, let's look at the string with both positive and negative indices:\n",
    "\n",
    "# less\n",
    "# Copy code\n",
    "#  Positive indices:  0  1  2  3  4  5  6  7  8  9 10 11 12\n",
    "#                     T  h  i  s     i  s     a  d  c  e  t\n",
    "# Negative indices: -13-12-11-10-9 -8 -7 -6 -5 -4 -3 -2 -1\n",
    "# The starting index is 0, which is 'T'.\n",
    "# The ending index is -10, which corresponds to 's' (index -10 from the end).\n",
    "# The step is -1, meaning the slicing moves backwards.\n",
    "# Extracting the Substring:\n",
    "# When slicing with a negative step and starting at index 0, Python attempts to go backwards from the start index, which doesn't make sense if the end index is negative and less than the start index.\n",
    "\n",
    "# Therefore, the slicing a[0:-10:-1] doesn't extract any characters because it effectively tries to move backwards from the starting index 'T' but stops immediately as the end index -10 is not reachable in this direction.\n",
    "a[0:-4:-1]"
   ]
  },
  {
   "cell_type": "code",
   "execution_count": 32,
   "id": "23238411-c041-4b2a-a23e-f82751528b55",
   "metadata": {},
   "outputs": [
    {
     "data": {
      "text/plain": [
       "''"
      ]
     },
     "execution_count": 32,
     "metadata": {},
     "output_type": "execute_result"
    }
   ],
   "source": [
    "a[0:0:1]"
   ]
  },
  {
   "cell_type": "code",
   "execution_count": 33,
   "id": "8e59f209-99e1-4017-85be-72ebf7b40381",
   "metadata": {},
   "outputs": [
    {
     "ename": "SyntaxError",
     "evalue": "invalid syntax (4208738532.py, line 1)",
     "output_type": "error",
     "traceback": [
      "\u001b[1;36m  Cell \u001b[1;32mIn[33], line 1\u001b[1;36m\u001b[0m\n\u001b[1;33m    a[::]        //   by defalut     a[start_index_of_a=0: end_index_of_a=14:step=1]\u001b[0m\n\u001b[1;37m                         ^\u001b[0m\n\u001b[1;31mSyntaxError\u001b[0m\u001b[1;31m:\u001b[0m invalid syntax\n"
     ]
    }
   ],
   "source": [
    "a[::]        //   by defalut     a[start_index_of_a=0: end_index_of_a=14:step=1]"
   ]
  },
  {
   "cell_type": "code",
   "execution_count": 34,
   "id": "4c4c826b-ad42-4ec7-b4b9-e62c791fd56b",
   "metadata": {},
   "outputs": [
    {
     "data": {
      "text/plain": [
       "'This is Gaure'"
      ]
     },
     "execution_count": 34,
     "metadata": {},
     "output_type": "execute_result"
    }
   ],
   "source": [
    "a[0:13:]"
   ]
  },
  {
   "cell_type": "code",
   "execution_count": 35,
   "id": "bad0dc7e-2945-4de8-bbf8-21471ea8bc99",
   "metadata": {},
   "outputs": [
    {
     "data": {
      "text/plain": [
       "'ee'"
      ]
     },
     "execution_count": 35,
     "metadata": {},
     "output_type": "execute_result"
    }
   ],
   "source": [
    "a[-2::]"
   ]
  },
  {
   "cell_type": "code",
   "execution_count": 36,
   "id": "65d8f872-24bd-4fb2-aa66-a92f90e81235",
   "metadata": {},
   "outputs": [
    {
     "data": {
      "text/plain": [
       "'e'"
      ]
     },
     "execution_count": 36,
     "metadata": {},
     "output_type": "execute_result"
    }
   ],
   "source": [
    "a[-2:-1]"
   ]
  },
  {
   "cell_type": "code",
   "execution_count": 37,
   "id": "cc31d02d-23f0-4b4b-931c-223d41d6f1ba",
   "metadata": {},
   "outputs": [
    {
     "data": {
      "text/plain": [
       "'eeruaG si sihT'"
      ]
     },
     "execution_count": 37,
     "metadata": {},
     "output_type": "execute_result"
    }
   ],
   "source": [
    "a[::-1]"
   ]
  },
  {
   "cell_type": "code",
   "execution_count": 38,
   "id": "7c296e30-801a-4557-bb6f-660db55d7a53",
   "metadata": {
    "scrolled": true
   },
   "outputs": [
    {
     "data": {
      "text/plain": [
       "'eeruaG si sihT'"
      ]
     },
     "execution_count": 38,
     "metadata": {},
     "output_type": "execute_result"
    }
   ],
   "source": [
    "a[-1::-1]"
   ]
  },
  {
   "cell_type": "code",
   "execution_count": 39,
   "id": "f3ae43d1-f7f8-49e5-ab18-0f4e4059167c",
   "metadata": {},
   "outputs": [
    {
     "data": {
      "text/plain": [
       "''"
      ]
     },
     "execution_count": 39,
     "metadata": {},
     "output_type": "execute_result"
    }
   ],
   "source": [
    "a[-5:5]  #if we are trying to start from negative and end at postive then it will return empty string"
   ]
  },
  {
   "cell_type": "code",
   "execution_count": 40,
   "id": "47e0fb61-0cbd-4a0d-98cb-879f9e22c7f0",
   "metadata": {},
   "outputs": [
    {
     "data": {
      "text/plain": [
       "'eruaG s'"
      ]
     },
     "execution_count": 40,
     "metadata": {},
     "output_type": "execute_result"
    }
   ],
   "source": [
    "#and instead if we write like below it will start reversing from -2\n",
    "a[-2:5:-1]"
   ]
  },
  {
   "cell_type": "code",
   "execution_count": 41,
   "id": "df7b8f39-11f1-476d-9470-50f7ba9a5f45",
   "metadata": {},
   "outputs": [
    {
     "data": {
      "text/plain": [
       "'AbhiAbhiAbhi'"
      ]
     },
     "execution_count": 41,
     "metadata": {},
     "output_type": "execute_result"
    }
   ],
   "source": [
    "\"Abhi\"*3"
   ]
  },
  {
   "cell_type": "code",
   "execution_count": 42,
   "id": "3c050fa8-d5a6-4e31-b68f-3ec72c568dc4",
   "metadata": {},
   "outputs": [
    {
     "ename": "TypeError",
     "evalue": "can only concatenate str (not \"int\") to str",
     "output_type": "error",
     "traceback": [
      "\u001b[1;31m---------------------------------------------------------------------------\u001b[0m",
      "\u001b[1;31mTypeError\u001b[0m                                 Traceback (most recent call last)",
      "Cell \u001b[1;32mIn[42], line 1\u001b[0m\n\u001b[1;32m----> 1\u001b[0m \u001b[38;5;124m'\u001b[39m\u001b[38;5;124mAbhi\u001b[39m\u001b[38;5;124m'\u001b[39m\u001b[38;5;241m+\u001b[39m\u001b[38;5;241m3\u001b[39m\n",
      "\u001b[1;31mTypeError\u001b[0m: can only concatenate str (not \"int\") to str"
     ]
    }
   ],
   "source": [
    "'Abhi'+3"
   ]
  },
  {
   "cell_type": "code",
   "execution_count": 43,
   "id": "5ff38a26-2607-4d2f-b278-651d60bce806",
   "metadata": {},
   "outputs": [
    {
     "data": {
      "text/plain": [
       "'Abhi3'"
      ]
     },
     "execution_count": 43,
     "metadata": {},
     "output_type": "execute_result"
    }
   ],
   "source": [
    "'Abhi'+'3'"
   ]
  },
  {
   "cell_type": "code",
   "execution_count": 44,
   "id": "1308e7ae-b229-46fa-8ec0-b77cb28f9b02",
   "metadata": {},
   "outputs": [
    {
     "data": {
      "text/plain": [
       "'abhishinde'"
      ]
     },
     "execution_count": 44,
     "metadata": {},
     "output_type": "execute_result"
    }
   ],
   "source": [
    "'abhi'+'shinde'"
   ]
  },
  {
   "cell_type": "code",
   "execution_count": 45,
   "id": "7d1e4dd7-f17c-4044-9738-8e287c691718",
   "metadata": {},
   "outputs": [
    {
     "data": {
      "text/plain": [
       "4"
      ]
     },
     "execution_count": 45,
     "metadata": {},
     "output_type": "execute_result"
    }
   ],
   "source": [
    "len('abhi')"
   ]
  },
  {
   "cell_type": "code",
   "execution_count": 46,
   "id": "3c3b3e50-5f86-4e4d-aa66-886ad42a8d2e",
   "metadata": {},
   "outputs": [
    {
     "data": {
      "text/plain": [
       "14"
      ]
     },
     "execution_count": 46,
     "metadata": {},
     "output_type": "execute_result"
    }
   ],
   "source": [
    "len(a)"
   ]
  },
  {
   "cell_type": "code",
   "execution_count": 47,
   "id": "f4a5d8c2-8269-477c-948e-af153ffcfb17",
   "metadata": {},
   "outputs": [
    {
     "data": {
      "text/plain": [
       "'This is Gauree'"
      ]
     },
     "execution_count": 47,
     "metadata": {},
     "output_type": "execute_result"
    }
   ],
   "source": [
    "a"
   ]
  },
  {
   "cell_type": "code",
   "execution_count": 48,
   "id": "a154f94a-52bf-43b2-a6c7-09f5230320b3",
   "metadata": {},
   "outputs": [
    {
     "data": {
      "text/plain": [
       "1"
      ]
     },
     "execution_count": 48,
     "metadata": {},
     "output_type": "execute_result"
    }
   ],
   "source": [
    "a.find('h')"
   ]
  },
  {
   "cell_type": "code",
   "execution_count": 49,
   "id": "72c0355c-082d-4ac5-9ba4-ffc900586b4d",
   "metadata": {},
   "outputs": [
    {
     "data": {
      "text/plain": [
       "2"
      ]
     },
     "execution_count": 49,
     "metadata": {},
     "output_type": "execute_result"
    }
   ],
   "source": [
    "a.find('i')  #write the first occurence of that letter"
   ]
  },
  {
   "cell_type": "code",
   "execution_count": 50,
   "id": "84568286-00c6-4e93-b24a-2ed58dad6095",
   "metadata": {},
   "outputs": [
    {
     "data": {
      "text/plain": [
       "12"
      ]
     },
     "execution_count": 50,
     "metadata": {},
     "output_type": "execute_result"
    }
   ],
   "source": [
    "a.find('ee')"
   ]
  },
  {
   "cell_type": "code",
   "execution_count": 51,
   "id": "07d1bffe-a0a6-4d5f-b842-5588396cc961",
   "metadata": {},
   "outputs": [
    {
     "data": {
      "text/plain": [
       "-1"
      ]
     },
     "execution_count": 51,
     "metadata": {},
     "output_type": "execute_result"
    }
   ],
   "source": [
    "a.find('ii')         #if ii is not there then it will return false as -1"
   ]
  },
  {
   "cell_type": "code",
   "execution_count": 52,
   "id": "a314e0c5-566f-4a2d-b917-4fe8b2ed69a2",
   "metadata": {},
   "outputs": [
    {
     "data": {
      "text/plain": [
       "-1"
      ]
     },
     "execution_count": 52,
     "metadata": {},
     "output_type": "execute_result"
    }
   ],
   "source": [
    "a.find('si')"
   ]
  },
  {
   "cell_type": "code",
   "execution_count": 53,
   "id": "5b39897e-f7ad-4a7a-86fc-7a2e839793d8",
   "metadata": {},
   "outputs": [
    {
     "data": {
      "text/plain": [
       "0"
      ]
     },
     "execution_count": 53,
     "metadata": {},
     "output_type": "execute_result"
    }
   ],
   "source": [
    "a.count('x')"
   ]
  },
  {
   "cell_type": "code",
   "execution_count": 54,
   "id": "6da6997b-1cf7-41d2-a7b6-8003d663af38",
   "metadata": {},
   "outputs": [
    {
     "data": {
      "text/plain": [
       "2"
      ]
     },
     "execution_count": 54,
     "metadata": {},
     "output_type": "execute_result"
    }
   ],
   "source": [
    "a.count('e')"
   ]
  },
  {
   "cell_type": "code",
   "execution_count": 55,
   "id": "231e1ef7-cbab-4437-ae57-591450d754b6",
   "metadata": {},
   "outputs": [
    {
     "data": {
      "text/plain": [
       "['This', 'is', 'Gauree']"
      ]
     },
     "execution_count": 55,
     "metadata": {},
     "output_type": "execute_result"
    }
   ],
   "source": [
    "l = a.split()       #by default split is done by separator white space .instead of that we can write a letter from which we can separate string \n",
    "l\n"
   ]
  },
  {
   "cell_type": "code",
   "execution_count": 56,
   "id": "194e3239-143b-46c4-9ddf-0287937e4aa5",
   "metadata": {},
   "outputs": [
    {
     "data": {
      "text/plain": [
       "['Th', 's ', 's Gauree']"
      ]
     },
     "execution_count": 56,
     "metadata": {},
     "output_type": "execute_result"
    }
   ],
   "source": [
    "m = a.split('i')\n",
    "m"
   ]
  },
  {
   "cell_type": "code",
   "execution_count": 57,
   "id": "ce5d3a0a-9050-4c4e-b935-d45ff1d0099b",
   "metadata": {},
   "outputs": [
    {
     "data": {
      "text/plain": [
       "'This'"
      ]
     },
     "execution_count": 57,
     "metadata": {},
     "output_type": "execute_result"
    }
   ],
   "source": [
    "l[0]"
   ]
  },
  {
   "cell_type": "code",
   "execution_count": 58,
   "id": "df9f5eaf-1c4e-4e5c-8750-54c7f8c2a3b5",
   "metadata": {},
   "outputs": [
    {
     "data": {
      "text/plain": [
       "'is'"
      ]
     },
     "execution_count": 58,
     "metadata": {},
     "output_type": "execute_result"
    }
   ],
   "source": [
    "l[1]"
   ]
  },
  {
   "cell_type": "code",
   "execution_count": 59,
   "id": "fdba5d38-ed3f-4bb1-b9e2-a6a9e4815adf",
   "metadata": {},
   "outputs": [
    {
     "data": {
      "text/plain": [
       "'Gauree'"
      ]
     },
     "execution_count": 59,
     "metadata": {},
     "output_type": "execute_result"
    }
   ],
   "source": [
    "l[-1]"
   ]
  },
  {
   "cell_type": "code",
   "execution_count": 60,
   "id": "7c45f200-0395-46ab-a457-29e5f6b4265d",
   "metadata": {},
   "outputs": [
    {
     "data": {
      "text/plain": [
       "['This', 'is', 'Gauree']"
      ]
     },
     "execution_count": 60,
     "metadata": {},
     "output_type": "execute_result"
    }
   ],
   "source": [
    "l[0:3]"
   ]
  },
  {
   "cell_type": "code",
   "execution_count": 61,
   "id": "99a963c4-a374-4f9d-9f0d-26647e24cbf8",
   "metadata": {},
   "outputs": [
    {
     "data": {
      "text/plain": [
       "['Gauree', 'is', 'This']"
      ]
     },
     "execution_count": 61,
     "metadata": {},
     "output_type": "execute_result"
    }
   ],
   "source": [
    "l[::-1]"
   ]
  },
  {
   "cell_type": "code",
   "execution_count": 62,
   "id": "72fa70f6-ba84-483c-b746-6099f9f9de55",
   "metadata": {},
   "outputs": [
    {
     "data": {
      "text/plain": [
       "'aBhI'"
      ]
     },
     "execution_count": 62,
     "metadata": {},
     "output_type": "execute_result"
    }
   ],
   "source": [
    "b = 'AbHi'\n",
    "b.swapcase()"
   ]
  },
  {
   "cell_type": "code",
   "execution_count": 63,
   "id": "4ac7ff15-9228-4d37-9160-c468ce767a18",
   "metadata": {},
   "outputs": [
    {
     "data": {
      "text/plain": [
       "'Abhi'"
      ]
     },
     "execution_count": 63,
     "metadata": {},
     "output_type": "execute_result"
    }
   ],
   "source": [
    "b.title()"
   ]
  },
  {
   "cell_type": "code",
   "execution_count": 64,
   "id": "c36c7fa2-8fc7-4e0e-aeb5-673bbad8b30b",
   "metadata": {},
   "outputs": [
    {
     "data": {
      "text/plain": [
       "'Abhi'"
      ]
     },
     "execution_count": 64,
     "metadata": {},
     "output_type": "execute_result"
    }
   ],
   "source": [
    "b.capitalize()"
   ]
  },
  {
   "cell_type": "code",
   "execution_count": 65,
   "id": "3cc481f9-a392-45d0-b9ae-b38a5aaccd05",
   "metadata": {},
   "outputs": [
    {
     "data": {
      "text/plain": [
       "'sAbhihAbhiiAbhinAbhidAbhie'"
      ]
     },
     "execution_count": 65,
     "metadata": {},
     "output_type": "execute_result"
    }
   ],
   "source": [
    "c = \"Abhi\"\n",
    "d = 'shinde'   # s Abhi h Abhi i Abhi n Abhi d Abhi e Abhi\n",
    "c.join(d)"
   ]
  },
  {
   "cell_type": "code",
   "execution_count": 66,
   "id": "f31f82e9-11c9-47c2-b00d-92ceb7e594b6",
   "metadata": {},
   "outputs": [
    {
     "data": {
      "text/plain": [
       "'A b h i'"
      ]
     },
     "execution_count": 66,
     "metadata": {},
     "output_type": "execute_result"
    }
   ],
   "source": [
    "\" \".join('Abhi')"
   ]
  },
  {
   "cell_type": "code",
   "execution_count": 67,
   "id": "ee399edb-1351-4786-8dba-f9d837ea73c9",
   "metadata": {},
   "outputs": [
    {
     "data": {
      "text/plain": [
       "<reversed at 0x28486072f80>"
      ]
     },
     "execution_count": 67,
     "metadata": {},
     "output_type": "execute_result"
    }
   ],
   "source": [
    "reversed('Abhi')"
   ]
  },
  {
   "cell_type": "code",
   "execution_count": 68,
   "id": "3feacc64-f4c9-4bab-868b-6b3ffc670635",
   "metadata": {},
   "outputs": [
    {
     "name": "stdout",
     "output_type": "stream",
     "text": [
      "i\n",
      "h\n",
      "b\n",
      "A\n"
     ]
    }
   ],
   "source": [
    "for i in reversed('Abhi'):\n",
    "    print(i)"
   ]
  },
  {
   "cell_type": "code",
   "execution_count": 69,
   "id": "92380295-df1a-4c6b-92d9-51049c0ab6ea",
   "metadata": {},
   "outputs": [
    {
     "data": {
      "text/plain": [
       "'Abhi'"
      ]
     },
     "execution_count": 69,
     "metadata": {},
     "output_type": "execute_result"
    }
   ],
   "source": [
    "c"
   ]
  },
  {
   "cell_type": "code",
   "execution_count": 70,
   "id": "d2a22aff-6185-4a37-9356-34775ad0698c",
   "metadata": {},
   "outputs": [
    {
     "data": {
      "text/plain": [
       "'ihbA'"
      ]
     },
     "execution_count": 70,
     "metadata": {},
     "output_type": "execute_result"
    }
   ],
   "source": [
    "c[::-1]"
   ]
  },
  {
   "cell_type": "code",
   "execution_count": 72,
   "id": "5c3cf938-fa59-44c1-ac85-c4432d8c11ce",
   "metadata": {},
   "outputs": [
    {
     "data": {
      "text/plain": [
       "' Abhi '"
      ]
     },
     "execution_count": 72,
     "metadata": {},
     "output_type": "execute_result"
    }
   ],
   "source": [
    "s = \" Abhi \"\n",
    "s"
   ]
  },
  {
   "cell_type": "code",
   "execution_count": 74,
   "id": "b51d87ab-4a53-447a-ab35-682b7bf2eb45",
   "metadata": {},
   "outputs": [
    {
     "data": {
      "text/plain": [
       "' Abhi'"
      ]
     },
     "execution_count": 74,
     "metadata": {},
     "output_type": "execute_result"
    }
   ],
   "source": [
    "s.rstrip()   # remove the whitespace at righthand side"
   ]
  },
  {
   "cell_type": "code",
   "execution_count": 76,
   "id": "0e762580-80d5-4f20-b542-18f06a1d4636",
   "metadata": {},
   "outputs": [
    {
     "data": {
      "text/plain": [
       "'Abhi '"
      ]
     },
     "execution_count": 76,
     "metadata": {},
     "output_type": "execute_result"
    }
   ],
   "source": [
    "s.lstrip()   #remove whitespace at lefthand side"
   ]
  },
  {
   "cell_type": "code",
   "execution_count": 78,
   "id": "3977885c-e8f6-4a4c-8f0c-a7226c83ce10",
   "metadata": {},
   "outputs": [
    {
     "data": {
      "text/plain": [
       "'Abhi'"
      ]
     },
     "execution_count": 78,
     "metadata": {},
     "output_type": "execute_result"
    }
   ],
   "source": [
    "s.strip()    #remove whitespace from both left and right side"
   ]
  },
  {
   "cell_type": "code",
   "execution_count": 79,
   "id": "e7d0c3d4-08bf-4f9b-895c-d3caf6cb8f06",
   "metadata": {},
   "outputs": [],
   "source": [
    "s = \"Abhi\""
   ]
  },
  {
   "cell_type": "code",
   "execution_count": 80,
   "id": "d17abb94-016c-4a84-98b7-6f9aa313b9eb",
   "metadata": {},
   "outputs": [
    {
     "data": {
      "text/plain": [
       "'Abhijeet'"
      ]
     },
     "execution_count": 80,
     "metadata": {},
     "output_type": "execute_result"
    }
   ],
   "source": [
    "s.replace('i','ijeet')"
   ]
  },
  {
   "cell_type": "code",
   "execution_count": 81,
   "id": "3e719932-5459-4dd9-bfae-6f860c6dc81c",
   "metadata": {},
   "outputs": [
    {
     "data": {
      "text/plain": [
       "'Gauri\\tJagtap'"
      ]
     },
     "execution_count": 81,
     "metadata": {},
     "output_type": "execute_result"
    }
   ],
   "source": [
    "a = 'Gauri\\tJagtap'\n",
    "a"
   ]
  },
  {
   "cell_type": "code",
   "execution_count": 82,
   "id": "a771f074-4bdc-4852-ade5-81beae8732af",
   "metadata": {},
   "outputs": [
    {
     "data": {
      "text/plain": [
       "'Gauri   Jagtap'"
      ]
     },
     "execution_count": 82,
     "metadata": {},
     "output_type": "execute_result"
    }
   ],
   "source": [
    "'Gauri\\tJagtap'.expandtabs()"
   ]
  },
  {
   "cell_type": "code",
   "execution_count": 85,
   "id": "f3343430-b4d7-4835-ace4-d47f2c1249b9",
   "metadata": {},
   "outputs": [
    {
     "data": {
      "text/plain": [
       "'ttttttttttttttttttAbhitttttttttttttttttt'"
      ]
     },
     "execution_count": 85,
     "metadata": {},
     "output_type": "execute_result"
    }
   ],
   "source": [
    "s.center(40, 't')            #s.center(width,fill character (must be signle letter))"
   ]
  },
  {
   "cell_type": "code",
   "execution_count": 84,
   "id": "66c7d773-5abc-45f5-a78d-3f47dc898383",
   "metadata": {},
   "outputs": [
    {
     "data": {
      "text/plain": [
       "40"
      ]
     },
     "execution_count": 84,
     "metadata": {},
     "output_type": "execute_result"
    }
   ],
   "source": [
    "b = 'ttttttttttttttttttAbhitttttttttttttttttt'\n",
    "len(b)"
   ]
  },
  {
   "cell_type": "code",
   "execution_count": 86,
   "id": "60e19c9e-fe2f-4a36-8238-b482551142f6",
   "metadata": {},
   "outputs": [
    {
     "data": {
      "text/plain": [
       "'         indians are best in the world'"
      ]
     },
     "execution_count": 86,
     "metadata": {},
     "output_type": "execute_result"
    }
   ],
   "source": [
    "c = '         indians are best in the world'\n",
    "c.strip('are')"
   ]
  },
  {
   "cell_type": "code",
   "execution_count": 87,
   "id": "850bc10c-6719-4a70-806f-7b6ef5a93119",
   "metadata": {},
   "outputs": [
    {
     "data": {
      "text/plain": [
       "'indians are best in the world'"
      ]
     },
     "execution_count": 87,
     "metadata": {},
     "output_type": "execute_result"
    }
   ],
   "source": [
    "c = '         indians are best in the world'\n",
    "c.strip()"
   ]
  },
  {
   "cell_type": "code",
   "execution_count": 89,
   "id": "59670fcb-19b5-46eb-9888-692a84691782",
   "metadata": {},
   "outputs": [
    {
     "data": {
      "text/plain": [
       "False"
      ]
     },
     "execution_count": 89,
     "metadata": {},
     "output_type": "execute_result"
    }
   ],
   "source": [
    "#Return True if the string is an uppercase string, False otherwise.\n",
    "#A string is uppercase if all cased characters in the string are uppercase and there is at least one cased character in the string.\n",
    "s.isupper()   "
   ]
  },
  {
   "cell_type": "code",
   "execution_count": 90,
   "id": "ca88dfb0-1541-4e6b-92da-50f2ead4aa36",
   "metadata": {},
   "outputs": [
    {
     "data": {
      "text/plain": [
       "True"
      ]
     },
     "execution_count": 90,
     "metadata": {},
     "output_type": "execute_result"
    }
   ],
   "source": [
    "s=\"ABHI\"\n",
    "s.isupper()"
   ]
  },
  {
   "cell_type": "code",
   "execution_count": 92,
   "id": "3dbbfcdd-e0a7-4e73-9413-5a0ae07edcf6",
   "metadata": {},
   "outputs": [
    {
     "data": {
      "text/plain": [
       "False"
      ]
     },
     "execution_count": 92,
     "metadata": {},
     "output_type": "execute_result"
    }
   ],
   "source": [
    "s.islower()"
   ]
  },
  {
   "cell_type": "code",
   "execution_count": 1,
   "id": "dcb63d9e-a630-40c2-b67e-fbafa0f2ae8f",
   "metadata": {},
   "outputs": [
    {
     "data": {
      "text/plain": [
       "'abhi'"
      ]
     },
     "execution_count": 1,
     "metadata": {},
     "output_type": "execute_result"
    }
   ],
   "source": [
    "s=\"abhi\"\n",
    "s.lower()"
   ]
  },
  {
   "cell_type": "code",
   "execution_count": 2,
   "id": "23ddc942-efd3-4c8f-8a98-aaca84dba472",
   "metadata": {},
   "outputs": [
    {
     "data": {
      "text/plain": [
       "False"
      ]
     },
     "execution_count": 2,
     "metadata": {},
     "output_type": "execute_result"
    }
   ],
   "source": [
    "s=\"     abhi\"\n",
    "s.isspace()"
   ]
  },
  {
   "cell_type": "code",
   "execution_count": 3,
   "id": "88ea63da-c68b-4516-a2d6-9d6bd94b9843",
   "metadata": {},
   "outputs": [
    {
     "data": {
      "text/plain": [
       "True"
      ]
     },
     "execution_count": 3,
     "metadata": {},
     "output_type": "execute_result"
    }
   ],
   "source": [
    "#A string is whitespace if all characters in the string are whitespace and there\n",
    "#is at least one character in the string where each string character  represents a whitespace\n",
    "s=\"    \"    \n",
    "s.isspace()"
   ]
  },
  {
   "cell_type": "code",
   "execution_count": 4,
   "id": "1e908954-be85-4666-8500-da68f4b68856",
   "metadata": {},
   "outputs": [
    {
     "data": {
      "text/plain": [
       "True"
      ]
     },
     "execution_count": 4,
     "metadata": {},
     "output_type": "execute_result"
    }
   ],
   "source": [
    "# A string is a digit string if all characters in the string are digits and there\n",
    "# is at least one character in the string.\n",
    "s = '32123'\n",
    "s.isdigit()"
   ]
  },
  {
   "cell_type": "code",
   "execution_count": 5,
   "id": "71626d72-2ced-41ab-93c8-cdc211bf384c",
   "metadata": {},
   "outputs": [
    {
     "data": {
      "text/plain": [
       "False"
      ]
     },
     "execution_count": 5,
     "metadata": {},
     "output_type": "execute_result"
    }
   ],
   "source": [
    "s = 'dwe43242'\n",
    "s.isdigit()"
   ]
  },
  {
   "cell_type": "code",
   "execution_count": 6,
   "id": "c2ac296c-e0d2-43eb-86be-4227541df631",
   "metadata": {},
   "outputs": [
    {
     "data": {
      "text/plain": [
       "True"
      ]
     },
     "execution_count": 6,
     "metadata": {},
     "output_type": "execute_result"
    }
   ],
   "source": [
    "# Return True if S ends with the specified suffix, False otherwise.\n",
    "# With optional start, test S beginning at that position.\n",
    "# With optional end, stop comparing S at that position.\n",
    "# suffix can also be a tuple of strings to try.\n",
    "s = \"Abhi\"\n",
    "s.endswith('i')    "
   ]
  },
  {
   "cell_type": "code",
   "execution_count": 7,
   "id": "4ad4667e-a386-479f-bc1c-254a0bcbb90e",
   "metadata": {},
   "outputs": [
    {
     "data": {
      "text/plain": [
       "False"
      ]
     },
     "execution_count": 7,
     "metadata": {},
     "output_type": "execute_result"
    }
   ],
   "source": [
    "s.endswith('h')"
   ]
  },
  {
   "cell_type": "code",
   "execution_count": 8,
   "id": "90661839-f098-47d9-a5a7-5d8628261edc",
   "metadata": {},
   "outputs": [
    {
     "data": {
      "text/plain": [
       "True"
      ]
     },
     "execution_count": 8,
     "metadata": {},
     "output_type": "execute_result"
    }
   ],
   "source": [
    "# S.startswith(prefix[, start[, end]]) -> bool\n",
    "\n",
    "# Return True if S starts with the specified prefix, False otherwise.\n",
    "# With optional start, test S beginning at that position.\n",
    "# With optional end, stop comparing S at that position.\n",
    "# prefix can also be a tuple of strings to try.\n",
    "s.startswith('A')"
   ]
  },
  {
   "cell_type": "code",
   "execution_count": 9,
   "id": "7cb07045-d6c1-4ecc-be7a-1108020f3c37",
   "metadata": {},
   "outputs": [
    {
     "data": {
      "text/plain": [
       "False"
      ]
     },
     "execution_count": 9,
     "metadata": {},
     "output_type": "execute_result"
    }
   ],
   "source": [
    "s.startswith('a')"
   ]
  },
  {
   "cell_type": "code",
   "execution_count": 12,
   "id": "772a6ef2-a6a2-457f-8171-f234b1b0d2b5",
   "metadata": {},
   "outputs": [
    {
     "data": {
      "text/plain": [
       "True"
      ]
     },
     "execution_count": 12,
     "metadata": {},
     "output_type": "execute_result"
    }
   ],
   "source": [
    "s.istitle()   #if starting letter is capital and other are small letters then itis title"
   ]
  },
  {
   "cell_type": "code",
   "execution_count": 14,
   "id": "bceacd4b-b502-4c10-b62e-33cd50532464",
   "metadata": {},
   "outputs": [
    {
     "data": {
      "text/plain": [
       "b'Abhi'"
      ]
     },
     "execution_count": 14,
     "metadata": {},
     "output_type": "execute_result"
    }
   ],
   "source": [
    "s.encode()   #always try to represent a character representationor system label understanding..our system can understand utif-8 language"
   ]
  },
  {
   "cell_type": "code",
   "execution_count": null,
   "id": "6da94afe-8746-45b8-9598-282b1ccf341d",
   "metadata": {},
   "outputs": [],
   "source": []
  }
 ],
 "metadata": {
  "kernelspec": {
   "display_name": "Python 3 (ipykernel)",
   "language": "python",
   "name": "python3"
  },
  "language_info": {
   "codemirror_mode": {
    "name": "ipython",
    "version": 3
   },
   "file_extension": ".py",
   "mimetype": "text/x-python",
   "name": "python",
   "nbconvert_exporter": "python",
   "pygments_lexer": "ipython3",
   "version": "3.11.7"
  }
 },
 "nbformat": 4,
 "nbformat_minor": 5
}
