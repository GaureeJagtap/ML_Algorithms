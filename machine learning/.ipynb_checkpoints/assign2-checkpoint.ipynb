{
 "cells": [
  {
   "cell_type": "code",
   "execution_count": 1,
   "id": "841d74cd-79ae-4256-afe6-fe403b3902d4",
   "metadata": {},
   "outputs": [],
   "source": [
    "import numpy as np"
   ]
  },
  {
   "cell_type": "code",
   "execution_count": 17,
   "id": "691134de-27f8-40a5-bac4-8a34b7f6e43a",
   "metadata": {},
   "outputs": [
    {
     "name": "stdout",
     "output_type": "stream",
     "text": [
      "version       : 1.26.4\n",
      "Build Dependencies:\n",
      "  blas:\n",
      "    detection method: pkgconfig\n",
      "    found: true\n",
      "    include directory: C:/Users/Jit/anaconda3/Library/include\n",
      "    lib directory: C:/Users/Jit/anaconda3/Library/lib\n",
      "    name: mkl-sdl\n",
      "    openblas configuration: unknown\n",
      "    pc file directory: C:\\b\\abs_c1ywpu18ar\\croot\\numpy_and_numpy_base_1708638681471\\_h_env\\Library\\lib\\pkgconfig\n",
      "    version: '2023.1'\n",
      "  lapack:\n",
      "    detection method: internal\n",
      "    found: true\n",
      "    include directory: unknown\n",
      "    lib directory: unknown\n",
      "    name: dep1868282989520\n",
      "    openblas configuration: unknown\n",
      "    pc file directory: unknown\n",
      "    version: 1.26.4\n",
      "Compilers:\n",
      "  c:\n",
      "    commands: cl.exe\n",
      "    linker: link\n",
      "    name: msvc\n",
      "    version: 19.29.30154\n",
      "  c++:\n",
      "    commands: cl.exe\n",
      "    linker: link\n",
      "    name: msvc\n",
      "    version: 19.29.30154\n",
      "  cython:\n",
      "    commands: cython\n",
      "    linker: cython\n",
      "    name: cython\n",
      "    version: 3.0.8\n",
      "Machine Information:\n",
      "  build:\n",
      "    cpu: x86_64\n",
      "    endian: little\n",
      "    family: x86_64\n",
      "    system: windows\n",
      "  host:\n",
      "    cpu: x86_64\n",
      "    endian: little\n",
      "    family: x86_64\n",
      "    system: windows\n",
      "Python Information:\n",
      "  path: C:\\b\\abs_c1ywpu18ar\\croot\\numpy_and_numpy_base_1708638681471\\_h_env\\python.exe\n",
      "  version: '3.11'\n",
      "SIMD Extensions:\n",
      "  baseline:\n",
      "  - SSE\n",
      "  - SSE2\n",
      "  - SSE3\n",
      "  found:\n",
      "  - SSSE3\n",
      "  - SSE41\n",
      "  - POPCNT\n",
      "  - SSE42\n",
      "  - AVX\n",
      "  - F16C\n",
      "  - FMA3\n",
      "  - AVX2\n",
      "  not found:\n",
      "  - AVX512F\n",
      "  - AVX512CD\n",
      "  - AVX512_SKX\n",
      "  - AVX512_CLX\n",
      "  - AVX512_CNL\n",
      "  - AVX512_ICL\n",
      "\n",
      "None\n"
     ]
    }
   ],
   "source": [
    "print(\"version       :\",np.__version__)\n",
    "print(np.show_config())"
   ]
  },
  {
   "cell_type": "code",
   "execution_count": 4,
   "id": "6aef5e2c-e223-4ae4-a972-9a06df7dc887",
   "metadata": {},
   "outputs": [
    {
     "name": "stdout",
     "output_type": "stream",
     "text": [
      "[0. 0. 0. 0. 0. 0. 0. 0. 0. 0. 0. 0. 0. 0. 0. 0. 0. 0. 0. 0.]\n"
     ]
    }
   ],
   "source": [
    "null_vector = np.zeros(20)\n",
    "print(null_vector)"
   ]
  },
  {
   "cell_type": "code",
   "execution_count": 5,
   "id": "1d6c9e52-2e66-4167-b52d-bfb58d13dedf",
   "metadata": {},
   "outputs": [
    {
     "name": "stdout",
     "output_type": "stream",
     "text": [
      "[0. 0. 0. 0. 1. 0. 0. 0. 0. 0.]\n"
     ]
    }
   ],
   "source": [
    "null_vector1 = np.zeros(10)\n",
    "null_vector1[4] = 1\n",
    "print(null_vector1)"
   ]
  },
  {
   "cell_type": "code",
   "execution_count": 18,
   "id": "89f69c6b-c8cc-4692-b449-c055427a5557",
   "metadata": {},
   "outputs": [
    {
     "name": "stdout",
     "output_type": "stream",
     "text": [
      "[10 11 12 13 14 15 16 17 18 19 20 21 22 23 24 25 26 27 28 29 30 31 32 33\n",
      " 34 35 36 37 38 39 40 41 42 43 44 45 46 47 48 49]\n"
     ]
    }
   ],
   "source": [
    "vector = np.arange(10, 50)\n",
    "print(vector)"
   ]
  },
  {
   "cell_type": "code",
   "execution_count": 19,
   "id": "b1650313-982d-4340-8c32-a159ed6232aa",
   "metadata": {},
   "outputs": [
    {
     "name": "stdout",
     "output_type": "stream",
     "text": [
      "reverse of vector is : [49 48 47 46 45 44 43 42 41 40 39 38 37 36 35 34 33 32 31 30 29 28 27 26\n",
      " 25 24 23 22 21 20 19 18 17 16 15 14 13 12 11 10]\n"
     ]
    }
   ],
   "source": [
    "print(\"reverse of vector is :\", vector[::-1])"
   ]
  },
  {
   "cell_type": "code",
   "execution_count": 20,
   "id": "f2fa7619-6fa7-46ec-ad31-2a89902da928",
   "metadata": {},
   "outputs": [
    {
     "name": "stdout",
     "output_type": "stream",
     "text": [
      "[[ 2  3  4]\n",
      " [ 5  6  7]\n",
      " [ 8  9 10]\n",
      " [11 12 13]]\n"
     ]
    }
   ],
   "source": [
    "matrix = np.arange(2, 14).reshape(4,3)\n",
    "print(matrix)"
   ]
  },
  {
   "cell_type": "code",
   "execution_count": 21,
   "id": "9ed0819a-8791-4a26-9bbf-c2643eca9620",
   "metadata": {},
   "outputs": [
    {
     "data": {
      "text/plain": [
       "(array([0, 1, 4], dtype=int64),)"
      ]
     },
     "execution_count": 21,
     "metadata": {},
     "output_type": "execute_result"
    }
   ],
   "source": [
    "A = [1,2,0,0,4,0]\n",
    "np.nonzero(A)"
   ]
  },
  {
   "cell_type": "code",
   "execution_count": 22,
   "id": "98435d9e-e109-4e79-896c-0f8b8fe36deb",
   "metadata": {},
   "outputs": [
    {
     "name": "stdout",
     "output_type": "stream",
     "text": [
      "[[1. 0. 0.]\n",
      " [0. 1. 0.]\n",
      " [0. 0. 1.]]\n"
     ]
    }
   ],
   "source": [
    "matrix = np.eye(3)\n",
    "print(matrix)"
   ]
  },
  {
   "cell_type": "code",
   "execution_count": 23,
   "id": "77a53e94-f02e-4259-acd3-00057a8c0687",
   "metadata": {},
   "outputs": [
    {
     "name": "stdout",
     "output_type": "stream",
     "text": [
      "[[[0.9857584  0.30653089 0.45072827]\n",
      "  [0.93847709 0.29259821 0.36236676]\n",
      "  [0.36310691 0.76989953 0.41539835]]\n",
      "\n",
      " [[0.37479964 0.05776737 0.50650438]\n",
      "  [0.73867102 0.47482396 0.60920713]\n",
      "  [0.85765552 0.61462685 0.1364037 ]]\n",
      "\n",
      " [[0.74427402 0.2590225  0.10690915]\n",
      "  [0.02169618 0.1669685  0.65855525]\n",
      "  [0.45076693 0.93408991 0.23899232]]]\n"
     ]
    }
   ],
   "source": [
    "matrix = np.random.rand(3,3,3)\n",
    "print(matrix)"
   ]
  },
  {
   "cell_type": "code",
   "execution_count": 24,
   "id": "7f9f5868-48e0-414f-b11e-ee1871dd9a21",
   "metadata": {},
   "outputs": [
    {
     "name": "stdout",
     "output_type": "stream",
     "text": [
      "max value: 0.9888220326386932\n",
      "min value: 0.009427170836306509\n"
     ]
    }
   ],
   "source": [
    "matrix =  np.random.rand(10, 10)\n",
    "print(\"max value:\",np.max(matrix))\n",
    "print(\"min value:\",np.min(matrix))"
   ]
  },
  {
   "cell_type": "code",
   "execution_count": 25,
   "id": "78393b5a-4455-4d89-b946-6c251a19b80c",
   "metadata": {},
   "outputs": [
    {
     "name": "stdout",
     "output_type": "stream",
     "text": [
      "[0.59829926 0.55795473 0.31540326 0.28241693 0.43969241 0.90541793\n",
      " 0.65388554 0.95374642 0.90438548 0.89386749 0.12026493 0.58545845\n",
      " 0.65194164 0.09754336 0.29567061 0.82140625 0.19052262 0.36589829\n",
      " 0.67694265 0.64188398 0.82653756 0.32819755 0.58004048 0.05551438\n",
      " 0.70064126 0.7970646  0.82381266 0.99644044 0.04994075 0.44714905]\n"
     ]
    }
   ],
   "source": [
    "vector = np.random.rand(30)\n",
    "print(vector)"
   ]
  },
  {
   "cell_type": "code",
   "execution_count": 26,
   "id": "cee61f9d-b606-4def-986f-98c2ab388cce",
   "metadata": {},
   "outputs": [
    {
     "name": "stdout",
     "output_type": "stream",
     "text": [
      "initial matrix:\n",
      " [[0. 0. 0. 0. 0.]\n",
      " [0. 0. 0. 0. 0.]\n",
      " [0. 0. 0. 0. 0.]\n",
      " [0. 0. 0. 0. 0.]\n",
      " [0. 0. 0. 0. 0.]]\n",
      "final matrix:\n",
      " [[1. 1. 1. 1. 1.]\n",
      " [1. 0. 0. 0. 1.]\n",
      " [1. 0. 0. 0. 1.]\n",
      " [1. 0. 0. 0. 1.]\n",
      " [1. 1. 1. 1. 1.]]\n"
     ]
    }
   ],
   "source": [
    "matrix = np.zeros((5, 5))\n",
    "print(\"initial matrix:\\n\",matrix)\n",
    "matrix[0,:]=1\n",
    "matrix[:,0]=1\n",
    "matrix[:,-1]=1\n",
    "matrix[-1,:]=1\n",
    "print(\"final matrix:\\n\",matrix)"
   ]
  },
  {
   "cell_type": "code",
   "execution_count": 27,
   "id": "a6a1fa60-2f38-4c17-9dce-d4fa3342e3ef",
   "metadata": {},
   "outputs": [
    {
     "name": "stdout",
     "output_type": "stream",
     "text": [
      "Checkerboard Pattern:\n",
      " [[0. 1. 0. 1. 0. 1. 0. 1.]\n",
      " [1. 0. 1. 0. 1. 0. 1. 0.]\n",
      " [0. 1. 0. 1. 0. 1. 0. 1.]\n",
      " [1. 0. 1. 0. 1. 0. 1. 0.]\n",
      " [0. 1. 0. 1. 0. 1. 0. 1.]\n",
      " [1. 0. 1. 0. 1. 0. 1. 0.]\n",
      " [0. 1. 0. 1. 0. 1. 0. 1.]\n",
      " [1. 0. 1. 0. 1. 0. 1. 0.]]\n"
     ]
    }
   ],
   "source": [
    "matrix = np.zeros((8,8))\n",
    "matrix[0::2,1::2]=1       #(0th to all row,1st to all column)  even row odd column\n",
    "matrix[1::2,0::2]=1       #(1st to all row,0th to all column)  odd row even column\n",
    "print(\"Checkerboard Pattern:\\n\",matrix)"
   ]
  },
  {
   "cell_type": "code",
   "execution_count": 28,
   "id": "6d8bf07e-6c5b-4a77-9075-2c71532b1bad",
   "metadata": {},
   "outputs": [
    {
     "name": "stdout",
     "output_type": "stream",
     "text": [
      "multiplication:(using @ symbol):\n",
      " [[0.69997115 1.11581542]\n",
      " [1.04545732 0.82392546]\n",
      " [0.59426673 0.54634756]\n",
      " [0.74452727 1.12016085]\n",
      " [0.5578176  0.08586917]]\n",
      "multiplication:(using dot):\n",
      " [[0.69997115 1.11581542]\n",
      " [1.04545732 0.82392546]\n",
      " [0.59426673 0.54634756]\n",
      " [0.74452727 1.12016085]\n",
      " [0.5578176  0.08586917]]\n"
     ]
    }
   ],
   "source": [
    "matrix1 = np.random.rand(5,3)\n",
    "matrix2 = np.random.rand(3,2)\n",
    "print(\"multiplication:(using @ symbol):\\n\",matrix1 @ matrix2)\n",
    "print(\"multiplication:(using dot):\\n\",np.dot(matrix1,matrix2))"
   ]
  },
  {
   "cell_type": "code",
   "execution_count": 29,
   "id": "f0ba9bba-5b39-4ce3-8ec9-209d00360b6a",
   "metadata": {},
   "outputs": [
    {
     "name": "stdout",
     "output_type": "stream",
     "text": [
      "[ 8.18130295  2.00426275 -3.49847711  2.22178331 -7.83939615 -6.76449585\n",
      "  0.64434795 -7.85588421 -3.17169243  1.21396629]\n"
     ]
    }
   ],
   "source": [
    "import numpy as np\n",
    "array= np.random.uniform(0,10,size=10)\n",
    "array[(array >= 3) & (array <= 8)] *= -1\n",
    "print(array)"
   ]
  },
  {
   "cell_type": "code",
   "execution_count": 30,
   "id": "11d078da-7797-4711-b544-85bfa3a89e73",
   "metadata": {},
   "outputs": [
    {
     "name": "stdout",
     "output_type": "stream",
     "text": [
      "sorted list:(using sorted keyword) [4, 15, 50, 63, 67, 78, 86, 94, 95, 99]\n",
      "sorted list:(using sort keyword) [ 4 15 50 63 67 78 86 94 95 99]\n"
     ]
    }
   ],
   "source": [
    "random_vector = np.random.randint(1,100,size=10)\n",
    "\n",
    "print(\"sorted list:(using sorted keyword)\",sorted(random_vector))\n",
    "random_vector.sort()\n",
    "print(\"sorted list:(using sort keyword)\",random_vector)"
   ]
  },
  {
   "cell_type": "code",
   "execution_count": 31,
   "id": "9d718624-b01a-4305-bd6c-16a78f6d9d05",
   "metadata": {},
   "outputs": [
    {
     "name": "stdout",
     "output_type": "stream",
     "text": [
      "original array : [ 2 18 33 40 13 31 28 46  6 30]\n",
      "array after replacing max no: [ 2 18 33 40 13 31 28  0  6 30]\n"
     ]
    }
   ],
   "source": [
    "random_vector = np.random.randint(1,50,size=10)\n",
    "print(\"original array :\",random_vector)\n",
    "max = np.argmax(random_vector)\n",
    "random_vector[max]=0\n",
    "print(\"array after replacing max no:\",random_vector)"
   ]
  },
  {
   "cell_type": "markdown",
   "id": "7048083d",
   "metadata": {},
   "source": [
    "**Perform the following operations on an array of mobile phones prices 6999, 7500, 11999, 27899, 14999, 9999.**"
   ]
  },
  {
   "cell_type": "code",
   "execution_count": 57,
   "id": "dd4dd73a-c833-4a25-b43a-d2ab8a134e7e",
   "metadata": {},
   "outputs": [
    {
     "name": "stdout",
     "output_type": "stream",
     "text": [
      "mobile_price array: [ 6999  7500 11999 27899 14999  9999]\n",
      "floated array : [ 6999.  7500. 11999. 27899. 14999.  9999.]\n",
      "appended array: [ 6999.  7500. 11999. 27899. 14999.  9999. 13999.]\n",
      "reversed array of mobile_prices: [9999, 14999, 27899, 11999, 7500, 6999]\n",
      "after applying GST : [11798.82, 17698.82, 32920.82, 14158.82, 8850.0, 8258.82]\n",
      "mobile prices in descending order : [32920.82, 17698.82, 14158.82, 11798.82, 8850.0, 8258.82]\n",
      "average price: 15614.35\n",
      "Difference between maximum and minimum price: 24662.0\n"
     ]
    }
   ],
   "source": [
    "#Perform the following operations on an array of mobile phones prices 6999, 7500, 11999, 27899, 14999, 9999.\n",
    "mobile_prices = [ 6999, 7500, 11999, 27899, 14999, 9999]\n",
    "\n",
    "# a. Create a 1d-array of mobile phones prices\n",
    "mp_array = np.array(mobile_prices)\n",
    "print(\"mobile_price array:\",mp_array)\n",
    "\n",
    "\n",
    "#b. Convert this array to float type\n",
    "float_array = mp_array.astype(float)\n",
    "print(\"floated array :\",float_array)\n",
    "\n",
    "\n",
    "#c. Append a new mobile having price of 13999 Rs. to this array\n",
    "print(\"appended array:\",np.append(float_array,13999))\n",
    "\n",
    "\n",
    "#d. Reverse this array of mobile phones prices\n",
    "mobile_prices.reverse()\n",
    "print(\"reversed array of mobile_prices:\",mobile_prices)\n",
    "\n",
    "\n",
    "#e. Apply GST of 18% on mobile phones prices and update this array.\n",
    "for i in range(len(mobile_prices)):\n",
    "  mobile_prices[i]*=1.18\n",
    "\n",
    "print(\"after applying GST :\",mobile_prices)\n",
    "\n",
    "#f. Sort the array in descending order of price \n",
    "mobile_prices.sort(reverse=True)\n",
    "print(\"mobile prices in descending order :\",mobile_prices)\\\n",
    "\n",
    "#g. What is the average mobile phone price \n",
    "total_price = sum(mobile_prices)\n",
    "phones = len(mobile_prices)\n",
    "avg_price = total_price/phones\n",
    "print(\"average price:\",avg_price)\n",
    "\n",
    "\n",
    "#h. What is the difference b/w maximum and minimum price\n",
    "maximum_price = np.max(mobile_prices)\n",
    "minimum_price = np.min(mobile_prices)\n",
    "price_difference = maximum_price - minimum_price\n",
    "print(\"Difference between maximum and minimum price:\", price_difference)"
   ]
  },
  {
   "cell_type": "code",
   "execution_count": null,
   "id": "c7ada3fd-5e99-4faf-aeda-63289731f27b",
   "metadata": {},
   "outputs": [],
   "source": []
  }
 ],
 "metadata": {
  "kernelspec": {
   "display_name": "Python 3 (ipykernel)",
   "language": "python",
   "name": "python3"
  },
  "language_info": {
   "codemirror_mode": {
    "name": "ipython",
    "version": 3
   },
   "file_extension": ".py",
   "mimetype": "text/x-python",
   "name": "python",
   "nbconvert_exporter": "python",
   "pygments_lexer": "ipython3",
   "version": "3.11.5"
  }
 },
 "nbformat": 4,
 "nbformat_minor": 5
}
