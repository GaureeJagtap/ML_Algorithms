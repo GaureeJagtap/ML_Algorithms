{
 "cells": [
  {
   "cell_type": "code",
   "execution_count": 4,
   "id": "100edaf7",
   "metadata": {},
   "outputs": [
    {
     "name": "stdout",
     "output_type": "stream",
     "text": [
      "1.24.3\n"
     ]
    }
   ],
   "source": [
    "import numpy as np\n",
    "\n",
    "print(np.__version__)"
   ]
  },
  {
   "cell_type": "code",
   "execution_count": 6,
   "id": "f626b407",
   "metadata": {},
   "outputs": [
    {
     "name": "stdout",
     "output_type": "stream",
     "text": [
      "blas_armpl_info:\n",
      "  NOT AVAILABLE\n",
      "blas_mkl_info:\n",
      "    libraries = ['mkl_rt']\n",
      "    library_dirs = ['C:/Users/DELL/anaconda3\\\\Library\\\\lib']\n",
      "    define_macros = [('SCIPY_MKL_H', None), ('HAVE_CBLAS', None)]\n",
      "    include_dirs = ['C:/Users/DELL/anaconda3\\\\Library\\\\include']\n",
      "blas_opt_info:\n",
      "    libraries = ['mkl_rt']\n",
      "    library_dirs = ['C:/Users/DELL/anaconda3\\\\Library\\\\lib']\n",
      "    define_macros = [('SCIPY_MKL_H', None), ('HAVE_CBLAS', None)]\n",
      "    include_dirs = ['C:/Users/DELL/anaconda3\\\\Library\\\\include']\n",
      "lapack_armpl_info:\n",
      "  NOT AVAILABLE\n",
      "lapack_mkl_info:\n",
      "    libraries = ['mkl_rt']\n",
      "    library_dirs = ['C:/Users/DELL/anaconda3\\\\Library\\\\lib']\n",
      "    define_macros = [('SCIPY_MKL_H', None), ('HAVE_CBLAS', None)]\n",
      "    include_dirs = ['C:/Users/DELL/anaconda3\\\\Library\\\\include']\n",
      "lapack_opt_info:\n",
      "    libraries = ['mkl_rt']\n",
      "    library_dirs = ['C:/Users/DELL/anaconda3\\\\Library\\\\lib']\n",
      "    define_macros = [('SCIPY_MKL_H', None), ('HAVE_CBLAS', None)]\n",
      "    include_dirs = ['C:/Users/DELL/anaconda3\\\\Library\\\\include']\n",
      "Supported SIMD extensions in this NumPy install:\n",
      "    baseline = SSE,SSE2,SSE3\n",
      "    found = SSSE3,SSE41,POPCNT,SSE42,AVX,F16C,FMA3,AVX2\n",
      "    not found = AVX512F,AVX512CD,AVX512_SKX,AVX512_CLX,AVX512_CNL,AVX512_ICL\n",
      "None\n"
     ]
    }
   ],
   "source": [
    "print(np.show_config())"
   ]
  },
  {
   "cell_type": "code",
   "execution_count": 10,
   "id": "ba8576d0",
   "metadata": {},
   "outputs": [
    {
     "name": "stdout",
     "output_type": "stream",
     "text": [
      "[0. 0. 0. 0. 0. 0. 0. 0. 0. 0. 0. 0. 0. 0. 0. 0. 0. 0. 0. 0.]\n"
     ]
    }
   ],
   "source": [
    "null_vector = np.zeros(20)\n",
    "print(null_vector)"
   ]
  },
  {
   "cell_type": "code",
   "execution_count": 11,
   "id": "e006af8f",
   "metadata": {},
   "outputs": [
    {
     "name": "stdout",
     "output_type": "stream",
     "text": [
      "[0. 0. 0. 0. 1. 0. 0. 0. 0. 0.]\n"
     ]
    }
   ],
   "source": [
    "null_vector = np.zeros(10)\n",
    "null_vector[4] = 1\n",
    "print(null_vector)"
   ]
  },
  {
   "cell_type": "code",
   "execution_count": 27,
   "id": "feccf856",
   "metadata": {},
   "outputs": [
    {
     "name": "stdout",
     "output_type": "stream",
     "text": [
      "[10 11 12 13 14 15 16 17 18 19 20 21 22 23 24 25 26 27 28 29 30 31 32 33\n",
      " 34 35 36 37 38 39 40 41 42 43 44 45 46 47 48 49]\n"
     ]
    }
   ],
   "source": [
    "vector = np.arange(10,50)\n",
    "print(vector)"
   ]
  },
  {
   "cell_type": "code",
   "execution_count": 28,
   "id": "75d1df95",
   "metadata": {},
   "outputs": [
    {
     "name": "stdout",
     "output_type": "stream",
     "text": [
      "[49 48 47 46 45 44 43 42 41 40 39 38 37 36 35 34 33 32 31 30 29 28 27 26\n",
      " 25 24 23 22 21 20 19 18 17 16 15 14 13 12 11 10]\n"
     ]
    }
   ],
   "source": [
    "reverse_vector = np.flip(vector)\n",
    "print(reverse_vector)"
   ]
  },
  {
   "cell_type": "code",
   "execution_count": 17,
   "id": "ce3536e2",
   "metadata": {},
   "outputs": [
    {
     "name": "stdout",
     "output_type": "stream",
     "text": [
      "[[ 2  3  4]\n",
      " [ 5  6  7]\n",
      " [ 8  9 10]\n",
      " [11 12 13]]\n"
     ]
    }
   ],
   "source": [
    "matrix = np.arange(2,14).reshape(4,3)\n",
    "print(matrix)"
   ]
  },
  {
   "cell_type": "code",
   "execution_count": 20,
   "id": "20e90bbd",
   "metadata": {},
   "outputs": [
    {
     "name": "stdout",
     "output_type": "stream",
     "text": [
      "indexes of non zero elements:\n",
      "(array([0, 1, 4], dtype=int64),)\n"
     ]
    }
   ],
   "source": [
    "A = [1, 2, 0, 0, 4, 0]\n",
    "matrix = np.nonzero(A)\n",
    "print(\"indexes of non zero elements:\")\n",
    "print(matrix)"
   ]
  },
  {
   "cell_type": "code",
   "execution_count": 22,
   "id": "d9353858",
   "metadata": {},
   "outputs": [
    {
     "name": "stdout",
     "output_type": "stream",
     "text": [
      "[[1. 0. 0.]\n",
      " [0. 1. 0.]\n",
      " [0. 0. 1.]]\n"
     ]
    }
   ],
   "source": [
    "matrix = np.eye(3)\n",
    "print(matrix)"
   ]
  },
  {
   "cell_type": "code",
   "execution_count": 24,
   "id": "adba30fb",
   "metadata": {},
   "outputs": [
    {
     "name": "stdout",
     "output_type": "stream",
     "text": [
      "[[[0.79845465 0.82419677 0.71222278]\n",
      "  [0.41784528 0.9120322  0.83722129]\n",
      "  [0.25230914 0.73356234 0.51098608]]\n",
      "\n",
      " [[0.86512542 0.81495642 0.23639682]\n",
      "  [0.28408162 0.2969839  0.23293708]\n",
      "  [0.31390152 0.2437732  0.30546243]]\n",
      "\n",
      " [[0.36556627 0.00207626 0.02328694]\n",
      "  [0.63648712 0.60537198 0.16776062]\n",
      "  [0.64244213 0.45037163 0.14438364]]]\n"
     ]
    }
   ],
   "source": [
    "matrix = np.random.rand(3,3,3)\n",
    "print(matrix)"
   ]
  },
  {
   "cell_type": "code",
   "execution_count": 26,
   "id": "54dc7d4b",
   "metadata": {},
   "outputs": [
    {
     "name": "stdout",
     "output_type": "stream",
     "text": [
      "[[0.97244801 0.15449449 0.11703968 0.07975185 0.46137657 0.63998831\n",
      "  0.1219118  0.99497058 0.10687897 0.42296746]\n",
      " [0.57445754 0.07797743 0.60081199 0.26264089 0.08195653 0.11201813\n",
      "  0.63426067 0.55925217 0.97139927 0.50249104]\n",
      " [0.24794205 0.05931695 0.95241623 0.17713039 0.45270004 0.87135874\n",
      "  0.3302835  0.9088248  0.81134438 0.36899709]\n",
      " [0.4739832  0.99556198 0.11057475 0.04639178 0.50306648 0.28567393\n",
      "  0.43713216 0.31558086 0.9934695  0.59384381]\n",
      " [0.74881418 0.89400423 0.49862967 0.33426961 0.5337658  0.38029764\n",
      "  0.93056968 0.21441948 0.32128226 0.98423126]\n",
      " [0.89418298 0.34786866 0.84058294 0.60346121 0.0258072  0.13244273\n",
      "  0.21824246 0.73492621 0.34596458 0.87162324]\n",
      " [0.11437381 0.42590087 0.91640708 0.35387771 0.18686053 0.42193328\n",
      "  0.57980953 0.6351519  0.07782947 0.45038385]\n",
      " [0.45030802 0.64383621 0.07233141 0.10185173 0.72114469 0.33467558\n",
      "  0.82352949 0.13652462 0.21995001 0.00655892]\n",
      " [0.20135953 0.34182977 0.13518474 0.9724724  0.4011812  0.45278913\n",
      "  0.06739231 0.53223745 0.71419994 0.41071485]\n",
      " [0.18508443 0.26573173 0.45852787 0.80720898 0.69439517 0.98831286\n",
      "  0.83287676 0.94657775 0.70563997 0.95319496]]\n",
      "min 0.006558918106209788\n",
      "max 0.9955619805589709\n"
     ]
    }
   ],
   "source": [
    "matrix = np.random.rand(10,10)\n",
    "print(matrix)\n",
    "print(\"min\", np.min(matrix))\n",
    "print(\"max\", np.max(matrix))"
   ]
  },
  {
   "cell_type": "code",
   "execution_count": 30,
   "id": "dfcdfd49",
   "metadata": {},
   "outputs": [
    {
     "name": "stdout",
     "output_type": "stream",
     "text": [
      "[0.40514861 0.47907612 0.11065241 0.81517577 0.42388012 0.55573765\n",
      " 0.68236238 0.82078718 0.37471022 0.22868731 0.12281455 0.87864895\n",
      " 0.13979084 0.84876234 0.91627633 0.8052929  0.53258221 0.62646406\n",
      " 0.51999982 0.03404932 0.65383191 0.07426166 0.83021456 0.04868338\n",
      " 0.75736079 0.83542709 0.1610721  0.81139177 0.65236918 0.20088499]\n",
      "mean : 0.5115465503433343\n"
     ]
    }
   ],
   "source": [
    "vector = np.random.rand(30)\n",
    "print(vector)\n",
    "print(\"mean :\", np.mean(vector))"
   ]
  },
  {
   "cell_type": "code",
   "execution_count": 34,
   "id": "f2ca58f3",
   "metadata": {},
   "outputs": [
    {
     "name": "stdout",
     "output_type": "stream",
     "text": [
      "border elements are 1's and inner elements are 0's:\n",
      " [[1 1 1 1 1]\n",
      " [1 0 0 0 1]\n",
      " [1 0 0 0 1]\n",
      " [1 0 0 0 1]\n",
      " [1 1 1 1 1]]\n"
     ]
    }
   ],
   "source": [
    "matrix = np.zeros((5,5), dtype=int)\n",
    "matrix[0,:]=1\n",
    "matrix[:,0]=1\n",
    "matrix[-1,:]=1\n",
    "matrix[:,-1]=1\n",
    "print(\"border elements are 1's and inner elements are 0's:\\n\",matrix)"
   ]
  },
  {
   "cell_type": "code",
   "execution_count": 36,
   "id": "ea425058",
   "metadata": {},
   "outputs": [
    {
     "name": "stdout",
     "output_type": "stream",
     "text": [
      "checkerboard pattern\n",
      " [[0. 1. 0. 1. 0.]\n",
      " [1. 0. 1. 0. 1.]\n",
      " [0. 1. 0. 1. 0.]\n",
      " [1. 0. 1. 0. 1.]\n",
      " [0. 1. 0. 1. 0.]]\n"
     ]
    }
   ],
   "source": [
    "matrix = np.zeros((5,5))\n",
    "matrix[::2,::2]=0\n",
    "matrix[1::2,1::2]=0\n",
    "matrix[::2,1::2]=1\n",
    "matrix[1::2,::2]=1\n",
    "print(\"checkerboard pattern\\n\",matrix)"
   ]
  },
  {
   "cell_type": "code",
   "execution_count": 48,
   "id": "12f6bfa7",
   "metadata": {},
   "outputs": [
    {
     "name": "stdout",
     "output_type": "stream",
     "text": [
      "[[8 3 9]\n",
      " [4 3 4]\n",
      " [1 9 7]\n",
      " [2 1 1]\n",
      " [8 1 2]]\n",
      "[[1 4]\n",
      " [9 3]\n",
      " [9 9]]\n",
      "multiplication:\n",
      " [[116 122]\n",
      " [ 67  61]\n",
      " [145  94]\n",
      " [ 20  20]\n",
      " [ 35  53]]\n",
      "mul:\n",
      " [[116 122]\n",
      " [ 67  61]\n",
      " [145  94]\n",
      " [ 20  20]\n",
      " [ 35  53]]\n"
     ]
    }
   ],
   "source": [
    "matrix1 = np.random.randint(1,10,size=(5,3))\n",
    "matrix2 = np.random.randint(1,10,size=(3,2))\n",
    "mul = np.dot(matrix1,matrix2)\n",
    "print(matrix1)\n",
    "print(matrix2)\n",
    "print(\"multiplication:\\n\",mul)\n",
    "\n",
    "print(\"mul:\\n\",matrix1 @ matrix2)   "
   ]
  },
  {
   "cell_type": "code",
   "execution_count": 52,
   "id": "95dc0d21",
   "metadata": {},
   "outputs": [
    {
     "ename": "TypeError",
     "evalue": "'>' not supported between instances of 'list' and 'int'",
     "output_type": "error",
     "traceback": [
      "\u001b[1;31m---------------------------------------------------------------------------\u001b[0m",
      "\u001b[1;31mTypeError\u001b[0m                                 Traceback (most recent call last)",
      "Cell \u001b[1;32mIn[52], line 2\u001b[0m\n\u001b[0;32m      1\u001b[0m A \u001b[38;5;241m=\u001b[39m [\u001b[38;5;241m1\u001b[39m,\u001b[38;5;241m3\u001b[39m,\u001b[38;5;241m5\u001b[39m,\u001b[38;5;241m2\u001b[39m,\u001b[38;5;241m7\u001b[39m,\u001b[38;5;241m9\u001b[39m,\u001b[38;5;241m8\u001b[39m,\u001b[38;5;241m6\u001b[39m]\n\u001b[1;32m----> 2\u001b[0m array \u001b[38;5;241m=\u001b[39m A[(A\u001b[38;5;241m>\u001b[39m\u001b[38;5;241m3\u001b[39m) \u001b[38;5;241m&\u001b[39m (A\u001b[38;5;241m<\u001b[39m\u001b[38;5;241m8\u001b[39m)] \n\u001b[0;32m      3\u001b[0m array \u001b[38;5;241m*\u001b[39m\u001b[38;5;241m=\u001b[39m \u001b[38;5;241m-\u001b[39m\u001b[38;5;241m1\u001b[39m\n\u001b[0;32m      4\u001b[0m \u001b[38;5;28mprint\u001b[39m(array)\n",
      "\u001b[1;31mTypeError\u001b[0m: '>' not supported between instances of 'list' and 'int'"
     ]
    }
   ],
   "source": [
    "A = [1,3,5,2,7,9,8,6]\n",
    "array = A[(A>3) & (A<8)] \n",
    "array *= -1\n",
    "print(array)"
   ]
  },
  {
   "cell_type": "code",
   "execution_count": null,
   "id": "89869525",
   "metadata": {},
   "outputs": [],
   "source": []
  }
 ],
 "metadata": {
  "kernelspec": {
   "display_name": "Python 3 (ipykernel)",
   "language": "python",
   "name": "python3"
  },
  "language_info": {
   "codemirror_mode": {
    "name": "ipython",
    "version": 3
   },
   "file_extension": ".py",
   "mimetype": "text/x-python",
   "name": "python",
   "nbconvert_exporter": "python",
   "pygments_lexer": "ipython3",
   "version": "3.11.5"
  }
 },
 "nbformat": 4,
 "nbformat_minor": 5
}
