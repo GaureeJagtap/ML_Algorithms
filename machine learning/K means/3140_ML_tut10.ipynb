{
 "cells": [
  {
   "cell_type": "markdown",
   "id": "d577e546-c32f-4d2a-a38d-bd21f55c7f9e",
   "metadata": {},
   "source": [
    "#### 1) import libraries"
   ]
  },
  {
   "cell_type": "code",
   "execution_count": 28,
   "id": "75fc82e7-5051-4c56-af26-84dbe724f0ee",
   "metadata": {},
   "outputs": [],
   "source": [
    "import pandas as pd\n",
    "import matplotlib.pyplot as plt\n",
    "import numpy as np\n",
    "from sklearn.cluster import KMeans\n",
    "from sklearn.preprocessing import MinMaxScaler"
   ]
  },
  {
   "cell_type": "markdown",
   "id": "23bab708-ca6a-4056-8b9b-dd99c95b5277",
   "metadata": {},
   "source": [
    "#### ( read dataset)"
   ]
  },
  {
   "cell_type": "raw",
   "id": "052c56fe-e8fc-4d3a-883a-6ec7c7a479de",
   "metadata": {},
   "source": [
    "df = pd.read_csv(\"IRIS.csv\")\n"
   ]
  },
  {
   "cell_type": "code",
   "execution_count": 29,
   "id": "9c156732-0e64-4602-ab1c-2ec174642a1a",
   "metadata": {},
   "outputs": [
    {
     "ename": "AttributeError",
     "evalue": "'NoneType' object has no attribute 'head'",
     "output_type": "error",
     "traceback": [
      "\u001b[1;31m---------------------------------------------------------------------------\u001b[0m",
      "\u001b[1;31mAttributeError\u001b[0m                            Traceback (most recent call last)",
      "Cell \u001b[1;32mIn[29], line 1\u001b[0m\n\u001b[1;32m----> 1\u001b[0m df\u001b[38;5;241m.\u001b[39mhead()\n",
      "\u001b[1;31mAttributeError\u001b[0m: 'NoneType' object has no attribute 'head'"
     ]
    }
   ],
   "source": [
    "df.head()"
   ]
  },
  {
   "cell_type": "code",
   "execution_count": null,
   "id": "757b57db-793b-445c-ad33-b61bb7194e58",
   "metadata": {},
   "outputs": [],
   "source": [
    "df.drop('species',inplace=True,axis=1)"
   ]
  },
  {
   "cell_type": "code",
   "execution_count": null,
   "id": "307deb36-bfd0-42ce-815f-36af1b4e2bab",
   "metadata": {},
   "outputs": [],
   "source": []
  }
 ],
 "metadata": {
  "kernelspec": {
   "display_name": "Python 3 (ipykernel)",
   "language": "python",
   "name": "python3"
  },
  "language_info": {
   "codemirror_mode": {
    "name": "ipython",
    "version": 3
   },
   "file_extension": ".py",
   "mimetype": "text/x-python",
   "name": "python",
   "nbconvert_exporter": "python",
   "pygments_lexer": "ipython3",
   "version": "3.11.7"
  }
 },
 "nbformat": 4,
 "nbformat_minor": 5
}
