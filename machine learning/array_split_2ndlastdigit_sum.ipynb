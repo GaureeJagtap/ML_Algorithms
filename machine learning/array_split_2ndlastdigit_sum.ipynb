{
 "cells": [
  {
   "cell_type": "code",
   "execution_count": null,
   "id": "31d523b0",
   "metadata": {},
   "outputs": [],
   "source": [
    "n = input(\"enter no of elements:\")\n"
   ]
  },
  {
   "cell_type": "code",
   "execution_count": null,
   "id": "a6c40aa3",
   "metadata": {},
   "outputs": [],
   "source": [
    "print(n)"
   ]
  },
  {
   "cell_type": "code",
   "execution_count": null,
   "id": "2571e260",
   "metadata": {},
   "outputs": [],
   "source": [
    "import numpy as np\n",
    "n = int(input(\"enter no of elements:\"))\n",
    "\n",
    "for i in n:\n",
    "    ele = int(input(i))\n",
    "    arr.append(ele)\n",
    "    \n",
    "print(arr)"
   ]
  },
  {
   "cell_type": "code",
   "execution_count": 6,
   "id": "3b34bcbd",
   "metadata": {},
   "outputs": [
    {
     "name": "stdout",
     "output_type": "stream",
     "text": [
      "babbaacc\n"
     ]
    }
   ],
   "source": [
    "def transform_string(str):\n",
    "    transformed_string = \"\" \n",
    "    for i in range(len(str)):\n",
    "        if str[i] == 'a':\n",
    "            transformed_string += 'b'\n",
    "        elif str[i] == 'b':\n",
    "            transformed_string += 'a'\n",
    "        else:\n",
    "            transformed_string += str[i]\n",
    "            \n",
    "    return transformed_string\n",
    "\n",
    "str = \"abaabbcc\"\n",
    "transformed_string = transform_string(str)\n",
    "print(transformed_string)"
   ]
  },
  {
   "cell_type": "code",
   "execution_count": null,
   "id": "721abd83",
   "metadata": {},
   "outputs": [],
   "source": []
  },
  {
   "cell_type": "code",
   "execution_count": null,
   "id": "f7e5b5eb",
   "metadata": {},
   "outputs": [],
   "source": []
  },
  {
   "cell_type": "code",
   "execution_count": null,
   "id": "51626408",
   "metadata": {},
   "outputs": [],
   "source": []
  }
 ],
 "metadata": {
  "kernelspec": {
   "display_name": "Python 3 (ipykernel)",
   "language": "python",
   "name": "python3"
  },
  "language_info": {
   "codemirror_mode": {
    "name": "ipython",
    "version": 3
   },
   "file_extension": ".py",
   "mimetype": "text/x-python",
   "name": "python",
   "nbconvert_exporter": "python",
   "pygments_lexer": "ipython3",
   "version": "3.11.7"
  }
 },
 "nbformat": 4,
 "nbformat_minor": 5
}
